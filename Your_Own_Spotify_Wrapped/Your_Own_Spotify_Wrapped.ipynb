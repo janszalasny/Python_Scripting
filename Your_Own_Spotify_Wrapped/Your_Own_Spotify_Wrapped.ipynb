{
  "nbformat": 4,
  "nbformat_minor": 0,
  "metadata": {
    "colab": {
      "provenance": []
    },
    "kernelspec": {
      "name": "python3",
      "display_name": "Python 3"
    },
    "language_info": {
      "name": "python"
    }
  },
  "cells": [
    {
      "cell_type": "markdown",
      "source": [
        "Step 1: Upload and Combine Your Spotify Streaming History Data\n",
        "Spotify allows you to download your entire streaming history as multiple JSON files, often split by year or date ranges. To analyze your listening habits comprehensively, the first step is to combine these separate JSON files into a single dataset.\n",
        "\n",
        "Assuming you have uploaded your exported Spotify streaming history files to your working environment (e.g., Google Colab or your local machine), you can load and merge them using Python’s built-in json module.\n",
        "\n",
        "Here’s a straightforward approach:"
      ],
      "metadata": {
        "id": "LQaJP8hkg075"
      }
    },
    {
      "cell_type": "code",
      "execution_count": null,
      "metadata": {
        "id": "tSN9gvwNgrDk"
      },
      "outputs": [],
      "source": [
        "import os\n",
        "import json\n",
        "from glob import glob\n",
        "# Path to your folder with streaming history\n",
        "folder_path = '/content/drive/MyDrive/Spotify Extended Streaming History'\n",
        "\n",
        "\n",
        "# Use glob to find all .json files in the folder\n",
        "json_files = sorted(glob(os.path.join(folder_path, '*.json')))\n",
        "\n",
        "\n",
        "# Display found files (optional)\n",
        "print(f\"Found {len(json_files)} JSON files.\")\n",
        "# Create a list to store all streaming history records\n",
        "combined_data = []\n",
        "\n",
        "\n",
        "for file_path in json_files:\n",
        "   with open(file_path, 'r', encoding='utf-8') as f:\n",
        "       data = json.load(f)\n",
        "       combined_data.extend(data)\n",
        "\n",
        "\n",
        "print(f\"Total records combined: {len(combined_data)}\")"
      ]
    },
    {
      "cell_type": "markdown",
      "source": [
        "After merging all your individual Spotify streaming history files into one comprehensive dataset, it’s good practice to save this combined data for easy access and reproducibility in future analyses.\n",
        "\n",
        "You can do this simply by writing the combined list back to a JSON file, as shown below:"
      ],
      "metadata": {
        "id": "r02sqaxDg58O"
      }
    },
    {
      "cell_type": "code",
      "source": [
        "# Path to save the combined file\n",
        "output_path = '/content/drive/MyDrive/Spotify_Extended_Streaming_Combined.json'\n",
        "\n",
        "\n",
        "# Save combined data\n",
        "with open(output_path, 'w', encoding='utf-8') as f:\n",
        "   json.dump(combined_data, f, ensure_ascii=False, indent=2)\n",
        "\n",
        "\n",
        "print(f\"Combined JSON saved to: {output_path}\")"
      ],
      "metadata": {
        "id": "dRmWLPHfg8CY"
      },
      "execution_count": null,
      "outputs": []
    },
    {
      "cell_type": "markdown",
      "source": [
        "Step 2: Load the Combined Data into a DataFrame and Preview\n",
        "With your combined Spotify streaming history saved, the next step is to load this data into a pandas DataFrame. This will make it easier to analyze and manipulate your listening records using Python’s data tools.\n",
        "\n",
        "Here’s how you can convert your combined JSON data into a DataFrame and take an initial look at the first few rows:"
      ],
      "metadata": {
        "id": "lP2p3G7ghANR"
      }
    },
    {
      "cell_type": "code",
      "source": [
        "import pandas as pd\n",
        "\n",
        "\n",
        "# Convert to DataFrame for further analysis\n",
        "df = pd.DataFrame(combined_data)\n",
        "df.head()"
      ],
      "metadata": {
        "id": "cAVeICnghBw7"
      },
      "execution_count": null,
      "outputs": []
    },
    {
      "cell_type": "markdown",
      "source": [
        "Step 3: Convert Timestamps and Extract Time Features\n",
        "To perform time-based analysis on your Spotify listening history, we first need to convert the timestamp strings into datetime objects. Then, we can extract useful components like year, month, day, weekday, and hour. These new columns will help us explore listening trends across different time periods. For example, which hours or days you listen the most.\n",
        "\n",
        "Here’s how to do it with pandas:"
      ],
      "metadata": {
        "id": "UkTVyvs3hFba"
      }
    },
    {
      "cell_type": "code",
      "source": [
        "df['ts'] = pd.to_datetime(df['ts'])\n",
        "df['year'] = df['ts'].dt.year\n",
        "df['month'] = df['ts'].dt.month\n",
        "df['day'] = df['ts'].dt.day\n",
        "df['weekday'] = df['ts'].dt.day_name()  # e.g. Monday\n",
        "df['hour'] = df['ts'].dt.hour          # to analyze listening by hour\n",
        "df[['ts', 'year', 'month', 'day', 'weekday', 'hour']].head()"
      ],
      "metadata": {
        "id": "W9k8IgexhHvC"
      },
      "execution_count": null,
      "outputs": []
    },
    {
      "cell_type": "markdown",
      "source": [
        "Step 4: Checking Basic Listening Statistics\n",
        "After adding the time features, it’s a good idea to start with some basic statistics to understand your overall listening habits over the years.\n",
        "\n",
        "We begin by calculating the total listening time (in milliseconds) per year and convert it into hours for easier interpretation:"
      ],
      "metadata": {
        "id": "kUw1ip6ThJxy"
      }
    },
    {
      "cell_type": "code",
      "source": [
        "df_filtered = df[df['year'] >= 2021]\n",
        "ms_played_by_year_filtered = ms_played_by_year[ms_played_by_year['year'] >= 2021]\n",
        "ms_played_by_year_filtered\n",
        "\n",
        "\n",
        "ms_played_by_year_filtered = ms_played_by_year[ms_played_by_year['year'] >= 2021].copy()\n",
        "ms_played_by_year_filtered['hours_played'] = ms_played_by_year_filtered['hours_played'].round(2)\n",
        "ms_played_by_year_filtered"
      ],
      "metadata": {
        "id": "qscWiLPghLSG"
      },
      "execution_count": null,
      "outputs": []
    },
    {
      "cell_type": "markdown",
      "source": [
        "Exploring Monthly Listening Patterns with a Pivot Table\n",
        "To dig deeper into your listening habits, let’s create a pivot table that shows total listening hours broken down by year and month. This will help visualize seasonal trends or identify months with particularly high or low listening activity.\n",
        "\n",
        "We start by filtering the data for recent years (2021 and later), then convert milliseconds played to hours. Next, we build a pivot table where rows are years and columns are months (1 to 12), with the sum of hours played as the values. To keep the output tidy and easy to read, we round the hours to one decimal place and make sure months are ordered correctly."
      ],
      "metadata": {
        "id": "sRxUGs9JhNex"
      }
    },
    {
      "cell_type": "code",
      "source": [
        "df_filtered = df[df['year'] >= 2021].copy()\n",
        "# Add column with hours\n",
        "df_filtered['hours_played'] = df_filtered['ms_played'] / (1000 * 60 * 60)\n",
        "\n",
        "\n",
        "# Pivot table: years as rows, months as columns\n",
        "pivot_table = df_filtered.pivot_table(\n",
        "   index='year',\n",
        "   columns='month',\n",
        "   values='hours_played',\n",
        "   aggfunc='sum'\n",
        ")\n",
        "pivot_table = pivot_table.round(1)\n",
        "pivot_table = pivot_table.sort_index(axis=1)  # Ensure months are in order\n",
        "pivot_table"
      ],
      "metadata": {
        "id": "M5Jzre1whN6W"
      },
      "execution_count": null,
      "outputs": []
    },
    {
      "cell_type": "markdown",
      "source": [
        "Displaying this pivot table provides a clear view of how listening hours vary across months and years, highlighting any seasonal trends or shifts in listening behavior. Step 5: Drawing first insights\n",
        "Let’s find out which artists you listened to the most. This part of the analysis focuses on your Spotify activity in 2024 and helps you see how much time you spent listening to each artist. You’ll start by filtering your dataset to include only plays from 2024. Then, you’ll group the data by artist name and calculate the total listening time in milliseconds. To make things easier to interpret, you’ll convert that time into hours.\n",
        "\n",
        "Once you’ve got the total hours, you’ll sort the artists from most to least listened to and keep the top 10based on total playtime. Finally, you’ll rename the columns so the output is clean and easy to read or export. This gives you a clear, ranked list of your most played artists in 2024 and shows who dominated your playlists throughout the year.\n",
        "\n"
      ],
      "metadata": {
        "id": "TM8e0i5thPUc"
      }
    },
    {
      "cell_type": "code",
      "source": [
        "df_2024 = df[df['year'] == 2024].copy()\n",
        "\n",
        "\n",
        "# Group by artist, sum ms_played\n",
        "artists_2024 = df_2024.groupby('master_metadata_album_artist_name')['ms_played'].sum().reset_index()\n",
        "# Convert ms_played to hours\n",
        "artists_2024['hours_played'] = artists_2024['ms_played'] / (1000 * 60 * 60)\n",
        "artists_2024['hours_played'] = artists_2024['hours_played'].round(2)\n",
        "\n",
        "\n",
        "# Sort descending and get top 10\n",
        "top_artists_2024 = artists_2024.sort_values(by='hours_played', ascending=False).head(10)\n",
        "# Rename columns for clarity\n",
        "top_artists_2024.columns = ['Artist', 'Milliseconds Played', 'Hours Played']\n",
        "top_artists_2024"
      ],
      "metadata": {
        "id": "-bLR329chT_-"
      },
      "execution_count": null,
      "outputs": []
    },
    {
      "cell_type": "markdown",
      "source": [
        "Analyzing Your Top Albums of 2024\n",
        "\n",
        "To find out which albums took up most of your listening time in 2024, you’ll start by filtering your data to include only that year. This gives you a clean dataset focused on your 2024 activity. Then, you’ll group the data by album and artist, and calculate the total listening time in milliseconds for each album. To make the results easier to understand, you’ll convert the listening time into hours.\n",
        "\n",
        "Once that’s done, you’ll sort the albums by total hours played, from highest to lowest, and display your top 10. The result is a quick, personalized snapshot of your most-played albums of the year — a simple way to see which records truly soundtracked your 2024."
      ],
      "metadata": {
        "id": "PA2Hn8QbhXX2"
      }
    },
    {
      "cell_type": "code",
      "source": [
        "df_2024 = df[df['year'] == 2024].copy()\n",
        "\n",
        "\n",
        "albums_2024 = df_2024.groupby(\n",
        "   ['master_metadata_album_artist_name', 'master_metadata_album_album_name']\n",
        ")['ms_played'].sum().reset_index()\n",
        "\n",
        "\n",
        "albums_2024['hours_played'] = albums_2024['ms_played'] / (1000 * 60 * 60)\n",
        "albums_2024['hours_played'] = albums_2024['hours_played'].round(2)\n",
        "\n",
        "\n",
        "top_albums_2024 = albums_2024.sort_values(by='hours_played', ascending=False).head(10)\n",
        "top_albums_2024"
      ],
      "metadata": {
        "id": "XkpEw9jBhXwl"
      },
      "execution_count": null,
      "outputs": []
    },
    {
      "cell_type": "markdown",
      "source": [
        "We can also check the most listened songs with this code:"
      ],
      "metadata": {
        "id": "9RXxihEhhb_7"
      }
    },
    {
      "cell_type": "code",
      "source": [
        "df_2024 = df[df['year'] == 2024].copy()\n",
        "\n",
        "\n",
        "songs_2024 = df_2024.groupby(\n",
        "   ['master_metadata_album_artist_name', 'master_metadata_track_name']\n",
        ")['ms_played'].sum().reset_index()\n",
        "\n",
        "\n",
        "songs_2024['hours_played'] = songs_2024['ms_played'] / (1000 * 60 * 60)\n",
        "songs_2024['hours_played'] = songs_2024['hours_played'].round(2)\n",
        "\n",
        "top_songs_2024 = songs_2024.sort_values(by='hours_played', ascending=False).head(10)\n",
        "\n",
        "top_songs_2024.columns = ['Artist', 'Track', 'Milliseconds Played', 'Hours Played']\n",
        "top_songs_2024"
      ],
      "metadata": {
        "id": "c-fukFrAhd5B"
      },
      "execution_count": null,
      "outputs": []
    },
    {
      "cell_type": "markdown",
      "source": [
        "This analysis offers a focused snapshot of your listening habits in 2024, but it can be easily adapted to explore other years, like 2023 or 2021, or even applied to the entire dataset to uncover all-time trends and shifts in your music preferences over time."
      ],
      "metadata": {
        "id": "B_5v22alheiK"
      }
    },
    {
      "cell_type": "markdown",
      "source": [
        "Step 6: Looking at trends\n",
        "Now you can dig deeper into when you actually listen to music, not just what you listen to. This block of code helps you explore your listening patterns throughout 2024 by examining trends across the year, week, and even specific hours of the day.\n",
        "\n",
        "First, make sure your timestamp column is in the correct datetime format, then extract useful details like the year, month, weekday, and hour. Focus only on plays from 2024 and calculate how many hours you spent listening across three time-related dimensions.\n",
        "\n",
        "For monthly trends, group all streams by month and sum the total listening time in hours. This will help you spot any seasonal shifts in your habits — for example, if you listen more during the summer or certain busy months.\n",
        "\n",
        "Next, look at day-of-week trends by summing the hours listened on each day, from Monday to Sunday. This shows whether you tend to play music more on weekends or weekdays.\n",
        "\n",
        "Finally, break things down by hour to see when during the day you listen the most — whether that’s early morning, during work hours, or late at night.\n",
        "\n",
        "Together, these insights give you a clear picture of your daily and weekly rhythms. It’s a great starting point for visualizing your personal listening habits and creating your own version of “Spotify Wrapped” focused on when you press play."
      ],
      "metadata": {
        "id": "FiOztovhhjtK"
      }
    },
    {
      "cell_type": "code",
      "source": [
        "# Convert ts column to datetime if not done yet\n",
        "df['ts'] = pd.to_datetime(df['ts'])\n",
        "\n",
        "\n",
        "# Extract features\n",
        "df['year'] = df['ts'].dt.year\n",
        "df['month'] = df['ts'].dt.month\n",
        "df['day_of_week'] = df['ts'].dt.day_name()  # e.g. Monday, Tuesday\n",
        "df['hour'] = df['ts'].dt.hour\n",
        "\n",
        "df_2024 = df[df['year'] == 2024].copy()\n",
        "monthly = df_2024.groupby('month')['ms_played'].sum().reset_index()\n",
        "monthly['hours_played'] = (monthly['ms_played'] / (1000*60*60)).round(2)\n",
        "print(monthly)\n",
        "dow = df_2024.groupby('day_of_week')['ms_played'].sum().reset_index()\n",
        "dow['hours_played'] = (dow['ms_played'] / (1000*60*60)).round(2)\n",
        "\n",
        "# Sort days in week order\n",
        "days_order = ['Monday', 'Tuesday', 'Wednesday', 'Thursday', 'Friday', 'Saturday', 'Sunday']\n",
        "dow['day_of_week'] = pd.Categorical(dow['day_of_week'], categories=days_order, ordered=True)\n",
        "dow = dow.sort_values('day_of_week')\n",
        "\n",
        "print(dow)\n",
        "hourly = df_2024.groupby('hour')['ms_played'].sum().reset_index()\n",
        "hourly['hours_played'] = (hourly['ms_played'] / (1000*60*60)).round(2)\n",
        "print(hourly)"
      ],
      "metadata": {
        "id": "-cAg8r7FhmEv"
      },
      "execution_count": null,
      "outputs": []
    },
    {
      "cell_type": "markdown",
      "source": [
        "Having the output — we can plot it to see some graphical insights. Let’s start with Monthly Listening Hours:"
      ],
      "metadata": {
        "id": "ZV_OFcaMhn4W"
      }
    },
    {
      "cell_type": "code",
      "source": [
        "import matplotlib.pyplot as plt\n",
        "import seaborn as sns\n",
        "\n",
        "\n",
        "# Monthly listening hours\n",
        "plt.figure(figsize=(10,5))\n",
        "sns.barplot(data=monthly, x='month', y='hours_played', palette='viridis')\n",
        "plt.title('Monthly Listening Hours in 2024')\n",
        "plt.xlabel('Month')\n",
        "plt.ylabel('Hours Played')\n",
        "plt.show()"
      ],
      "metadata": {
        "id": "Hd9i-CR_hpbR"
      },
      "execution_count": null,
      "outputs": []
    },
    {
      "cell_type": "markdown",
      "source": [
        "Now we can jump to Listening Hours by Day of Week:"
      ],
      "metadata": {
        "id": "fzAVC3M6hrBX"
      }
    },
    {
      "cell_type": "code",
      "source": [
        "# Day of week listening hours\n",
        "plt.figure(figsize=(10,5))\n",
        "sns.barplot(data=dow, x='day_of_week', y='hours_played', palette='magma')\n",
        "plt.title('Listening Hours by Day of Week in 2024')\n",
        "plt.xlabel('Day of Week')\n",
        "plt.ylabel('Hours Played')\n",
        "plt.show()\n",
        "Press enter or click to view image in full size\n"
      ],
      "metadata": {
        "id": "R7C-NVsDhsxl"
      },
      "execution_count": null,
      "outputs": []
    },
    {
      "cell_type": "markdown",
      "source": [
        "And finally — Listening Hours by Hour of Day:"
      ],
      "metadata": {
        "id": "BjNULCj4huNT"
      }
    },
    {
      "cell_type": "code",
      "source": [
        "# Hourly listening hours\n",
        "plt.figure(figsize=(12,5))\n",
        "sns.lineplot(data=hourly, x='hour', y='hours_played', marker='o')\n",
        "plt.title('Listening Hours by Hour of Day in 2024')\n",
        "plt.xlabel('Hour of Day')\n",
        "plt.ylabel('Hours Played')\n",
        "plt.xticks(range(0,24))\n",
        "plt.show()\n",
        "Press enter or click to view image in full size\n"
      ],
      "metadata": {
        "id": "UuZb9nn4hv4F"
      },
      "execution_count": null,
      "outputs": []
    },
    {
      "cell_type": "markdown",
      "source": [
        "Step 7: Defining streaks and having a look at seasonality\n",
        "Let’s define some streaks. You can process your listening data to find the songs you played on the most consecutive days in 2024. Start by filtering your dataset to include only records from that year and convert each timestamp to just the date. Then remove any duplicate entries for the same song on the same day so repeated plays don’t affect the results.\n",
        "\n",
        "Next, use a custom function to calculate the longest streak of consecutive listening days for each track. This function goes through the sorted list of dates for each song and counts how many days in a row you listened to it without missing a day.\n",
        "\n",
        "After calculating the streaks, add up the total number of hours each song was played throughout the year. Combine both pieces of information — the longest streak and total playtime — into one table. Finally, sort the songs by their longest streaks and display the top ten. This will give you a clear view of which tracks stayed in your rotation most consistently over time."
      ],
      "metadata": {
        "id": "BI01nrzNhy7o"
      }
    },
    {
      "cell_type": "code",
      "source": [
        "df_2024 = df[df['year'] == 2024].copy()\n",
        "df_2024['date'] = df_2024['ts'].dt.date\n",
        "df_songs = df_2024[['master_metadata_track_name', 'date']].drop_duplicates()\n",
        "\n",
        "\n",
        "def longest_streak(dates):\n",
        "   dates = sorted(dates)\n",
        "   max_streak = 1\n",
        "   current_streak = 1\n",
        "   for i in range(1, len(dates)):\n",
        "       if (dates[i] - dates[i-1]).days == 1:\n",
        "           current_streak += 1\n",
        "       else:\n",
        "           max_streak = max(max_streak, current_streak)\n",
        "           current_streak = 1\n",
        "   max_streak = max(max_streak, current_streak)\n",
        "   return max_streak\n",
        "\n",
        "# Calculate longest consecutive days streak per song\n",
        "streaks = df_songs.groupby('master_metadata_track_name')['date'].apply(longest_streak).reset_index()\n",
        "streaks.columns = ['track_name', 'longest_streak_days']\n",
        "\n",
        "# Join with total hours played for extra info\n",
        "total_played = df_2024.groupby('master_metadata_track_name')['ms_played'].sum().reset_index()\n",
        "total_played['hours_played'] = total_played['ms_played'] / (1000 * 60 * 60)\n",
        "\n",
        "result = pd.merge(streaks, total_played[['master_metadata_track_name', 'hours_played']],\n",
        "                 left_on='track_name', right_on='master_metadata_track_name').drop('master_metadata_track_name', axis=1)\n",
        "\n",
        "# Sort by longest streak and pick top 10\n",
        "top_streak_songs = result.sort_values(by='longest_streak_days', ascending=False).head(20)\n",
        "\n",
        "\n",
        "top_streak_songs"
      ],
      "metadata": {
        "id": "dfAVhfIahzQ-"
      },
      "execution_count": null,
      "outputs": []
    },
    {
      "cell_type": "markdown",
      "source": [
        "Now, you can analyze your listening habits from 2023 by finding the songs you played on the highest number of distinct days throughout the year. Start by filtering your dataset to include only entries from 2023, then convert each timestamp to just the calendar date. With this cleaned data, calculate how many unique days you listened to each track, no matter how many times you played it on those days.\n",
        "\n",
        "To give more context, also compute the total number of hours each song was played during the year. Then combine these two metrics — unique listening days and total listening time — into one table.\n",
        "\n",
        "Finally, sort the songs by the number of unique days they appeared in your listening history and show the top ten. This will help you spot which tracks were part of your routine over time, not just ones you binged in short bursts."
      ],
      "metadata": {
        "id": "6-vr8nYzh1Ci"
      }
    },
    {
      "cell_type": "code",
      "source": [
        "df_2023 = df[df['year'] == 2023].copy()\n",
        "\n",
        "\n",
        "# Extract date only from timestamp\n",
        "df_2023['date'] = df_2023['ts'].dt.date\n",
        "\n",
        "\n",
        "# Group by track and count unique days listened\n",
        "unique_days = df_2023.groupby('master_metadata_track_name')['date'].nunique().reset_index()\n",
        "unique_days.columns = ['track_name', 'unique_days_listened']\n",
        "\n",
        "\n",
        "# Optional: add total hours played per song for context\n",
        "total_played = df_2023.groupby('master_metadata_track_name')['ms_played'].sum().reset_index()\n",
        "total_played['hours_played'] = total_played['ms_played'] / (1000 * 60 * 60)\n",
        "\n",
        "\n",
        "result = pd.merge(unique_days, total_played[['master_metadata_track_name', 'hours_played']],\n",
        "                 left_on='track_name', right_on='master_metadata_track_name').drop('master_metadata_track_name', axis=1)\n",
        "\n",
        "\n",
        "# Sort by most unique days listened\n",
        "top_songs_by_unique_days = result.sort_values(by='unique_days_listened', ascending=False).head(10)\n",
        "\n",
        "\n",
        "print(top_songs_by_unique_days)"
      ],
      "metadata": {
        "id": "amkbpdMLh3dw"
      },
      "execution_count": null,
      "outputs": []
    },
    {
      "cell_type": "markdown",
      "source": [
        "Now, let’s explore your top artists by season. This code will help you see which artists you listened to the most during each season of the year.\n",
        "\n",
        "First, it sorts your data by season and listening time (hours played), making sure the artists with the highest playtime appear at the top within each season.\n",
        "\n",
        "Next, it ranks the artists within each season based on how many hours you spent listening to them. This way, you can identify the leaders for each part of the year.\n",
        "\n",
        "Then, it filters the data to keep only the top few artists per season — for example, the top three artists you listened to the most in winter, spring, summer, and fall.\n",
        "\n",
        "After that, the code creates easy-to-read labels combining the season, the artist’s rank, their name, and total hours played.\n",
        "\n",
        "Finally, it prints out these labels so you get a clear, formatted list showing your seasonal favorite artists and how much you listened to them. This is a great way to understand how your music taste changes with the seasons!"
      ],
      "metadata": {
        "id": "U4RRzhv_h7D9"
      }
    },
    {
      "cell_type": "code",
      "source": [
        "import pandas as pd\n",
        "\n",
        "# Copy your dataframe (assuming df has a datetime column 'ts')\n",
        "df['ts'] = pd.to_datetime(df['ts'])\n",
        "\n",
        "# Define a function to map month to season\n",
        "def month_to_season(month):\n",
        "   if month in [12, 1, 2]:\n",
        "       return 'Winter'\n",
        "   elif month in [3, 4, 5]:\n",
        "       return 'Spring'\n",
        "   elif month in [6, 7, 8]:\n",
        "       return 'Summer'\n",
        "   else:\n",
        "       return 'Autumn'\n",
        "\n",
        "\n",
        "# Add season column\n",
        "df['season'] = df['ts'].dt.month.apply(month_to_season)\n",
        "\n",
        "# Filter for a specific year if desired, e.g. 2024\n",
        "df_2024 = df[df['ts'].dt.year == 2024].copy()\n",
        "\n",
        "# Group by season and artist, summing listening time (ms_played)\n",
        "season_artist = df_2024.groupby(\n",
        "   ['season', 'master_metadata_album_artist_name']\n",
        ")['ms_played'].sum().reset_index()\n",
        "\n",
        "# Convert ms_played to hours\n",
        "season_artist['hours_played'] = season_artist['ms_played'] / (1000 * 60 * 60)\n",
        "season_artist['hours_played'] = season_artist['hours_played'].round(2)\n",
        "\n",
        "# Sort by season and descending hours_played\n",
        "season_artist_sorted = season_artist.sort_values(['season', 'hours_played'], ascending=[True, False])\n",
        "\n",
        "\n",
        "# Rank artists within each season based on hours_played\n",
        "season_artist_sorted['rank'] = season_artist_sorted.groupby('season')['hours_played'].rank(method='first', ascending=False)\n",
        "\n",
        "\n",
        "# Filter top N artists per season (e.g., top 3)\n",
        "top_n = 3\n",
        "top_season_artists = season_artist_sorted[season_artist_sorted['rank'] <= top_n].copy()\n",
        "\n",
        "\n",
        "# Create formatted label with season, rank and artist name\n",
        "top_season_artists['label'] = top_season_artists.apply(\n",
        "   lambda x: f\"{x['season']} Top {int(x['rank'])}: {x['master_metadata_album_artist_name']} ({x['hours_played']} hrs)\",\n",
        "   axis=1\n",
        ")\n",
        "\n",
        "\n",
        "# Print the formatted labels\n",
        "for label in top_season_artists['label']:\n",
        "   print(label)"
      ],
      "metadata": {
        "id": "XgLsCnJQh7cc"
      },
      "execution_count": null,
      "outputs": []
    },
    {
      "cell_type": "markdown",
      "source": [
        "By digging into your Spotify listening data from different angles — whether it’s total playtime, unique listening days, streaks, or seasonal favorites — you get a much richer picture of your music habits. This kind of exploration not only reveals what you listened to but also when and how consistently those songs and artists showed up in your life.\n",
        "\n",
        "As you experiment with these analyses, you might discover surprising patterns or rediscover forgotten favorites that marked certain moments of your year. Music is deeply personal, and tracking your listening journey can be a fun way to reflect on your moods, routines, and even how the seasons influence your vibe.\n",
        "\n",
        "So why stop here? Use these methods as a starting point to customize your own musical story. Share your findings, compare with friends, or even challenge yourself to shake up your playlists. After all, understanding your listening habits is the first step to making your soundtrack even more meaningful.\n",
        "\n",
        "What trends do you see in your data? I’d love to hear about your own discoveries!"
      ],
      "metadata": {
        "id": "bejky1OAiDZi"
      }
    }
  ]
}